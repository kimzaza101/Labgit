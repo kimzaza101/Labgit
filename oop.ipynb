{
 "cells": [
  {
   "cell_type": "code",
   "execution_count": 46,
   "metadata": {},
   "outputs": [],
   "source": [
    "class Student:\n",
    "    def __init__(self, Student_id, name, major):\n",
    "        self.Student_id = Student_id\n",
    "        self.name = name\n",
    "        self.major = major\n",
    "\n",
    "        \n",
    "\n",
    "    def __str__(self):\n",
    "        return f\"\"\"\n",
    "-----------------------------------------\n",
    "Student_id  = {self.Student_id}\n",
    "Name        = {self.name}\n",
    "Major       = {self.major}\n",
    "-----------------------------------------\n",
    "\"\"\"\n",
    "    \n",
    "    def display_info(self):\n",
    "        print(f\"\"\"\n",
    "-----------------------------------------\n",
    "Student_id  = {self.Student_id}\n",
    "Name        = {self.name}\n",
    "Major       = {self.major}\n",
    "-----------------------------------------\n",
    "\"\"\")\n",
    "    \n"
   ]
  },
  {
   "cell_type": "code",
   "execution_count": 47,
   "metadata": {},
   "outputs": [],
   "source": [
    "st1 = Student(1122,'kim','AI')\n",
    "st2 = Student(1123, 'nu', 'AI')"
   ]
  },
  {
   "cell_type": "code",
   "execution_count": 50,
   "metadata": {},
   "outputs": [],
   "source": [
    "class Student_Management:\n",
    "    def __init__(self):\n",
    "        self.std = []\n",
    "\n",
    "    def add_std(self, std):\n",
    "        self.std.append(std)\n",
    "        print('Student Add!')\n",
    "\n",
    "    def get_student(self, ID):\n",
    "        for std in self.std:\n",
    "            if std.Student_id == ID:\n",
    "                return std\n",
    "            return None\n",
    "        \n",
    "    def rm_std(self, std):\n",
    "        if std == self.std:\n",
    "            self.std.remove(std)\n",
    "            print('Student remove')\n",
    "    \n",
    "    def Show_all(self):\n",
    "        for std in self.std:\n",
    "            std.display_info()\n",
    "    "
   ]
  },
  {
   "cell_type": "code",
   "execution_count": 51,
   "metadata": {},
   "outputs": [
    {
     "name": "stdout",
     "output_type": "stream",
     "text": [
      "Student Add!\n",
      "Student Add!\n",
      "\n",
      "-----------------------------------------\n",
      "Student_id  = 1122\n",
      "Name        = kim\n",
      "Major       = AI\n",
      "-----------------------------------------\n",
      "\n",
      "\n",
      "-----------------------------------------\n",
      "Student_id  = 1122\n",
      "Name        = kim\n",
      "Major       = AI\n",
      "-----------------------------------------\n",
      "\n",
      "\n",
      "-----------------------------------------\n",
      "Student_id  = 1123\n",
      "Name        = nu\n",
      "Major       = AI\n",
      "-----------------------------------------\n",
      "\n"
     ]
    }
   ],
   "source": [
    "sm = Student_Management()\n",
    "\n",
    "sm.add_std(st1)\n",
    "sm.add_std(st2)\n",
    "\n",
    "b = sm.get_student(1122)\n",
    "\n",
    "print(b)\n",
    "\n",
    "sm.Show_all()"
   ]
  }
 ],
 "metadata": {
  "kernelspec": {
   "display_name": "Python 3",
   "language": "python",
   "name": "python3"
  },
  "language_info": {
   "codemirror_mode": {
    "name": "ipython",
    "version": 3
   },
   "file_extension": ".py",
   "mimetype": "text/x-python",
   "name": "python",
   "nbconvert_exporter": "python",
   "pygments_lexer": "ipython3",
   "version": "3.9.13"
  }
 },
 "nbformat": 4,
 "nbformat_minor": 2
}
